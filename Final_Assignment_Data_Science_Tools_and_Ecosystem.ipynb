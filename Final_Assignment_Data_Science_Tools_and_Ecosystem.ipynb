{
  "cells": [
    {
      "cell_type": "markdown",
      "metadata": {
        "id": "view-in-github",
        "colab_type": "text"
      },
      "source": [
        "<a href=\"https://colab.research.google.com/github/sulthonkaf/datascience-final-assignment/blob/main/Final_Assignment_Data_Science_Tools_and_Ecosystem.ipynb\" target=\"_parent\"><img src=\"https://colab.research.google.com/assets/colab-badge.svg\" alt=\"Open In Colab\"/></a>"
      ]
    },
    {
      "cell_type": "markdown",
      "metadata": {
        "id": "Sqlv6Kbk5KhR"
      },
      "source": [
        "# Final Assignment: Data Science Tools and Ecosystem\n",
        "\n",
        "> **Peer‑Graded Final** — JupyterLite Notebook\n"
      ],
      "id": "Sqlv6Kbk5KhR"
    },
    {
      "cell_type": "markdown",
      "metadata": {
        "id": "Qym3T0OZ5KhU"
      },
      "source": [
        "## Introduction\n",
        "In this notebook, I will demonstrate some basic concepts of data science using Markdown and code cells.\n",
        "This assignment is part of the final project for the course **Tools for Data Science**."
      ],
      "id": "Qym3T0OZ5KhU"
    },
    {
      "cell_type": "markdown",
      "metadata": {
        "id": "2g7JJoaQ5KhV"
      },
      "source": [
        "## Data Science Languages\n",
        "Some of the most popular languages used in Data Science are:\n",
        "1. Python\n",
        "2. R\n",
        "3. SQL\n",
        "4. Julia\n",
        "5. Scala"
      ],
      "id": "2g7JJoaQ5KhV"
    },
    {
      "cell_type": "markdown",
      "metadata": {
        "id": "ujoGzJAT5KhW"
      },
      "source": [
        "## Data Science Libraries\n",
        "Here are a few common libraries used by Data Scientists:\n",
        "- **Pandas**\n",
        "- **NumPy**\n",
        "- **Matplotlib**\n",
        "- **Scikit-learn**\n",
        "- **TensorFlow**"
      ],
      "id": "ujoGzJAT5KhW"
    },
    {
      "cell_type": "markdown",
      "metadata": {
        "id": "pA3paMnD5KhW"
      },
      "source": [
        "## Data Science Tools\n",
        "| Tool             | Category         | Description                         |\n",
        "|------------------|------------------|-------------------------------------|\n",
        "| Jupyter Notebook | IDE/Notebook     | Interactive coding environment      |\n",
        "| RStudio          | IDE              | Popular IDE for R programming       |\n",
        "| Apache Spark     | Big Data Tool    | Distributed data processing engine  |"
      ],
      "id": "pA3paMnD5KhW"
    },
    {
      "cell_type": "markdown",
      "metadata": {
        "id": "N4-6TCVB5KhX"
      },
      "source": [
        "## Arithmetic Expressions\n",
        "Below is an example of how arithmetic expressions can be used in Python."
      ],
      "id": "N4-6TCVB5KhX"
    },
    {
      "cell_type": "code",
      "metadata": {
        "id": "VR6Lzbtd5KhX"
      },
      "execution_count": null,
      "outputs": [],
      "source": [
        "# Exercise 8 – Multiply and add numbers\n",
        "(3 * 4) + 5"
      ],
      "id": "VR6Lzbtd5KhX"
    },
    {
      "cell_type": "code",
      "metadata": {
        "id": "F5mXVYve5KhZ"
      },
      "execution_count": null,
      "outputs": [],
      "source": [
        "# Exercise 9 – Convert minutes to hours\n",
        "minutes = 200\n",
        "hours = minutes / 60\n",
        "hours"
      ],
      "id": "F5mXVYve5KhZ"
    },
    {
      "cell_type": "markdown",
      "metadata": {
        "id": "u-caaK0Z5KhZ"
      },
      "source": [
        "## Objectives\n",
        "In this final assignment, you will:\n",
        "- Use Markdown cells to create formatted text\n",
        "- List Data Science tools, languages, and libraries\n",
        "- Perform simple arithmetic expressions in Python\n",
        "- Convert units (minutes to hours) using code\n",
        "- Publish the notebook to GitHub"
      ],
      "id": "u-caaK0Z5KhZ"
    },
    {
      "cell_type": "markdown",
      "metadata": {
        "id": "CfJO1z475Kha"
      },
      "source": [
        "## Author\n",
        "**Name:** Sulthon Kaffaah Al Farizzi"
      ],
      "id": "CfJO1z475Kha"
    }
  ],
  "metadata": {
    "kernelspec": {
      "display_name": "Python 3",
      "language": "python",
      "name": "python3"
    },
    "language_info": {
      "codemirror_mode": {
        "name": "ipython",
        "version": 3
      },
      "file_extension": ".py",
      "mimetype": "text/x-python",
      "name": "python",
      "nbconvert_exporter": "python",
      "pygments_lexer": "ipython3",
      "version": "3.11"
    },
    "created_with": "ChatGPT (GPT-5 Thinking)",
    "created_at": "2025-09-05T11:06:28.949878Z",
    "colab": {
      "provenance": [],
      "include_colab_link": true
    }
  },
  "nbformat": 4,
  "nbformat_minor": 5
}