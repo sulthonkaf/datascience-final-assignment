{
  "cells": [
    {
      "cell_type": "markdown",
      "metadata": {},
      "source": [
        "# Final Assignment: Data Science Tools and Ecosystem\n",
        "\n",
        "> **Peer\u2011Graded Final** \u2014 JupyterLite Notebook\n"
      ]
    },
    {
      "cell_type": "markdown",
      "metadata": {},
      "source": [
        "## Introduction\n",
        "In this notebook, I will demonstrate some basic concepts of data science using Markdown and code cells.\n",
        "This assignment is part of the final project for the course **Tools for Data Science**."
      ]
    },
    {
      "cell_type": "markdown",
      "metadata": {},
      "source": [
        "## Data Science Languages\n",
        "Some of the most popular languages used in Data Science are:\n",
        "1. Python\n",
        "2. R\n",
        "3. SQL\n",
        "4. Julia\n",
        "5. Scala"
      ]
    },
    {
      "cell_type": "markdown",
      "metadata": {},
      "source": [
        "## Data Science Libraries\n",
        "Here are a few common libraries used by Data Scientists:\n",
        "- **Pandas**\n",
        "- **NumPy**\n",
        "- **Matplotlib**\n",
        "- **Scikit-learn**\n",
        "- **TensorFlow**"
      ]
    },
    {
      "cell_type": "markdown",
      "metadata": {},
      "source": [
        "## Data Science Tools\n",
        "| Tool             | Category         | Description                         |\n",
        "|------------------|------------------|-------------------------------------|\n",
        "| Jupyter Notebook | IDE/Notebook     | Interactive coding environment      |\n",
        "| RStudio          | IDE              | Popular IDE for R programming       |\n",
        "| Apache Spark     | Big Data Tool    | Distributed data processing engine  |"
      ]
    },
    {
      "cell_type": "markdown",
      "metadata": {},
      "source": [
        "## Arithmetic Expressions\n",
        "Below is an example of how arithmetic expressions can be used in Python."
      ]
    },
    {
      "cell_type": "code",
      "metadata": {},
      "execution_count": null,
      "outputs": [],
      "source": [
        "# Exercise 8 \u2013 Multiply and add numbers\n",
        "(3 * 4) + 5"
      ]
    },
    {
      "cell_type": "code",
      "metadata": {},
      "execution_count": null,
      "outputs": [],
      "source": [
        "# Exercise 9 \u2013 Convert minutes to hours\n",
        "minutes = 200\n",
        "hours = minutes / 60\n",
        "hours"
      ]
    },
    {
      "cell_type": "markdown",
      "metadata": {},
      "source": [
        "## Objectives\n",
        "In this final assignment, you will:\n",
        "- Use Markdown cells to create formatted text\n",
        "- List Data Science tools, languages, and libraries\n",
        "- Perform simple arithmetic expressions in Python\n",
        "- Convert units (minutes to hours) using code\n",
        "- Publish the notebook to GitHub"
      ]
    },
    {
      "cell_type": "markdown",
      "metadata": {},
      "source": [
        "## Author\n",
        "**Name:** Sulthon Kaffaah Al Farizzi"
      ]
    },
    {
      "cell_type": "markdown",
      "metadata": {},
      "source": [
        "---\n",
        "### (Helper) Publishing notes\n",
        "1. Save this notebook.\n",
        "2. Upload to a **public GitHub repository**.\n",
        "3. Take a screenshot of the first page (title + intro + part of content)."
      ]
    }
  ],
  "metadata": {
    "kernelspec": {
      "display_name": "Python 3",
      "language": "python",
      "name": "python3"
    },
    "language_info": {
      "codemirror_mode": {
        "name": "ipython",
        "version": 3
      },
      "file_extension": ".py",
      "mimetype": "text/x-python",
      "name": "python",
      "nbconvert_exporter": "python",
      "pygments_lexer": "ipython3",
      "version": "3.11"
    },
    "created_with": "ChatGPT (GPT-5 Thinking)",
    "created_at": "2025-09-05T11:06:28.949878Z"
  },
  "nbformat": 4,
  "nbformat_minor": 5
}